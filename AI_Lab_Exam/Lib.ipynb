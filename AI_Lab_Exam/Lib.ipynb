{
 "cells": [
  {
   "cell_type": "markdown",
   "metadata": {},
   "source": [
    "## Example of numpy Lib\n"
   ]
  },
  {
   "cell_type": "code",
   "execution_count": 10,
   "metadata": {},
   "outputs": [
    {
     "name": "stdout",
     "output_type": "stream",
     "text": [
      "<class 'numpy.ndarray'>\n",
      "(3,)\n",
      "[1 2 3]\n"
     ]
    }
   ],
   "source": [
    "\n",
    "import numpy as np\n",
    "a = np.array([1,2,3])\n",
    "print(type(a))\n",
    "print(a.shape)\n",
    "print(a)"
   ]
  },
  {
   "cell_type": "code",
   "execution_count": 4,
   "metadata": {},
   "outputs": [
    {
     "name": "stdout",
     "output_type": "stream",
     "text": [
      "(2, 3)\n",
      "1 2 4\n"
     ]
    }
   ],
   "source": [
    "b = np.array([[1,2,3],[4,5,6]])\n",
    "print(b.shape)\n",
    "print(b[0,0],b[0,1],b[1,0])"
   ]
  },
  {
   "cell_type": "code",
   "execution_count": 5,
   "metadata": {},
   "outputs": [
    {
     "name": "stdout",
     "output_type": "stream",
     "text": [
      "[[0. 0.]\n",
      " [0. 0.]]\n",
      "[[1. 1.]]\n",
      "[[7 7]\n",
      " [7 7]]\n",
      "[[1. 0.]\n",
      " [0. 1.]]\n",
      "[[0.9949514  0.45065902]\n",
      " [0.19127266 0.09649381]]\n"
     ]
    }
   ],
   "source": [
    "import numpy as np\n",
    "\n",
    "a = np.zeros((2,2))   # Create an array of all zeros\n",
    "print(a)              # Prints \"[[ 0.  0.]\n",
    "                      #          [ 0.  0.]]\"\n",
    "\n",
    "b = np.ones((1,2))    # Create an array of all ones\n",
    "print(b)              # Prints \"[[ 1.  1.]]\"\n",
    "\n",
    "c = np.full((2,2), 7)  # Create a constant array\n",
    "print(c)               # Prints \"[[ 7.  7.]\n",
    "                       #          [ 7.  7.]]\"\n",
    "\n",
    "d = np.eye(2)         # Create a 2x2 identity matrix\n",
    "print(d)              # Prints \"[[ 1.  0.]\n",
    "                      #          [ 0.  1.]]\"\n",
    "\n",
    "e = np.random.random((2,2))  # Create an array filled with random values\n",
    "print(e)                     # Might print \"[[ 0.91940167  0.08143941]\n",
    "                             #               [ 0.68744134  0.87236687]]\""
   ]
  },
  {
   "cell_type": "code",
   "execution_count": 6,
   "metadata": {},
   "outputs": [
    {
     "name": "stdout",
     "output_type": "stream",
     "text": [
      "[1 4 5]\n",
      "[1 4 5]\n",
      "[2 2]\n",
      "[2 2]\n"
     ]
    }
   ],
   "source": [
    "import numpy as np\n",
    "\n",
    "a = np.array([[1,2], [3, 4], [5, 6]])\n",
    "\n",
    "# An example of integer array indexing.\n",
    "# The returned array will have shape (3,) and\n",
    "print(a[[0, 1, 2], [0, 1, 0]])  # Prints \"[1 4 5]\"\n",
    "\n",
    "# The above example of integer array indexing is equivalent to this:\n",
    "print(np.array([a[0, 0], a[1, 1], a[2, 0]]))  # Prints \"[1 4 5]\"\n",
    "\n",
    "# When using integer array indexing, you can reuse the same\n",
    "# element from the source array:\n",
    "print(a[[0, 0], [1, 1]])  # Prints \"[2 2]\"\n",
    "\n",
    "# Equivalent to the previous integer array indexing example\n",
    "print(np.array([a[0, 1], a[0, 1]]))  # Prints \"[2 2]\""
   ]
  },
  {
   "cell_type": "code",
   "execution_count": 7,
   "metadata": {},
   "outputs": [
    {
     "name": "stdout",
     "output_type": "stream",
     "text": [
      "[[ 1  2  3]\n",
      " [ 4  5  6]\n",
      " [ 7  8  9]\n",
      " [10 11 12]]\n"
     ]
    }
   ],
   "source": [
    "a = np.array([[1,2,3], [4,5,6], [7,8,9], [10, 11, 12]])\n",
    "print(a)"
   ]
  },
  {
   "cell_type": "code",
   "execution_count": 9,
   "metadata": {},
   "outputs": [
    {
     "name": "stdout",
     "output_type": "stream",
     "text": [
      "[[ 6.  8.]\n",
      " [10. 12.]]\n",
      "[[ 6.  8.]\n",
      " [10. 12.]]\n",
      "[[-4. -4.]\n",
      " [-4. -4.]]\n",
      "[[-4. -4.]\n",
      " [-4. -4.]]\n",
      "[[ 5. 12.]\n",
      " [21. 32.]]\n",
      "[[ 5. 12.]\n",
      " [21. 32.]]\n",
      "[[0.2        0.33333333]\n",
      " [0.42857143 0.5       ]]\n",
      "[[0.2        0.33333333]\n",
      " [0.42857143 0.5       ]]\n",
      "[[1.         1.41421356]\n",
      " [1.73205081 2.        ]]\n"
     ]
    }
   ],
   "source": [
    "import numpy as np\n",
    "\n",
    "x = np.array([[1,2],[3,4]], dtype=np.float64)\n",
    "y = np.array([[5,6],[7,8]], dtype=np.float64)\n",
    "\n",
    "# Elementwise sum; both produce the array\n",
    "# [[ 6.0  8.0]\n",
    "#  [10.0 12.0]]\n",
    "print(x + y)\n",
    "print(np.add(x, y))\n",
    "\n",
    "# Elementwise difference; both produce the array\n",
    "# [[-4.0 -4.0]\n",
    "#  [-4.0 -4.0]]\n",
    "print(x - y)\n",
    "print(np.subtract(x, y))\n",
    "\n",
    "# Elementwise product; both produce the array\n",
    "#[[ 5.0 12.0]\n",
    "# [21.0 32.0]]\n",
    "print(x * y)\n",
    "print(np.multiply(x, y))\n",
    "\n",
    "# Elementwise division; both produce the array\n",
    "# [[ 0.2         0.33333333]\n",
    "#  [ 0.42857143  0.5       ]]\n",
    "print(x / y)\n",
    "print(np.divide(x, y))\n",
    "\n",
    "# Elementwise square root; produces the array\n",
    "# [[ 1.          1.41421356]\n",
    "#  [ 1.73205081  2.        ]]\n",
    "print(np.sqrt(x))"
   ]
  },
  {
   "cell_type": "markdown",
   "metadata": {},
   "source": [
    "## Example Of pandas lib\n",
    "#Pandas has two main data structures for data storage:\n",
    "      #1.Series\n",
    "      #2.DataFrame"
   ]
  },
  {
   "cell_type": "code",
   "execution_count": 11,
   "metadata": {},
   "outputs": [
    {
     "name": "stdout",
     "output_type": "stream",
     "text": [
      "0    1\n",
      "1    2\n",
      "2    3\n",
      "3    4\n",
      "4    5\n",
      "dtype: int64\n"
     ]
    }
   ],
   "source": [
    "import pandas as pd\n",
    "serise1 = pd.Series([1,2,3,4,5])\n",
    "print(serise1)"
   ]
  },
  {
   "cell_type": "code",
   "execution_count": 12,
   "metadata": {},
   "outputs": [
    {
     "name": "stdout",
     "output_type": "stream",
     "text": [
      "0     apple\n",
      "1    orange\n",
      "2     mango\n",
      "3    banana\n",
      "dtype: object\n"
     ]
    }
   ],
   "source": [
    "import pandas as pd\n",
    "import numpy as np\n",
    "import sys\n",
    "sys.__stdout__=sys.stdout\n",
    "fruits = np.array(['apple','orange','mango','banana'])\n",
    "series2= pd.Series(fruits)\n",
    "print(series2)"
   ]
  },
  {
   "cell_type": "code",
   "execution_count": 16,
   "metadata": {},
   "outputs": [
    {
     "name": "stdout",
     "output_type": "stream",
     "text": [
      "   Column1 Column2  Column3  Column4\n",
      "0        1       a   1.2300     True\n",
      "1        4  column  23.5000    False\n",
      "2        8    with  45.6000     True\n",
      "3        7       a  32.1234    False\n",
      "4        9  string  89.4530     True\n"
     ]
    }
   ],
   "source": [
    "#DataFrame\n",
    "#The Pandas DataFrame can be seen as a table. \n",
    "#It organizes data into rows and columns, making\n",
    "#it a two-dimensional data structure. Potentially,\n",
    "#the columns are of a different type and the size of \n",
    "#the DataFrame is mutable,and hence can be modified.\n",
    "\n",
    "\n",
    "\n",
    "import pandas as pd  \n",
    "df = pd.DataFrame({  \n",
    "    \"Column1\": [1, 4, 8, 7, 9],\n",
    "    \"Column2\": ['a', 'column', 'with', 'a', 'string'],\n",
    "    \"Column3\": [1.23, 23.5, 45.6, 32.1234, 89.453],\n",
    "    \"Column4\": [True, False, True, False, True]\n",
    "})\n",
    "print(df)  "
   ]
  },
  {
   "cell_type": "code",
   "execution_count": 17,
   "metadata": {},
   "outputs": [
    {
     "name": "stdout",
     "output_type": "stream",
     "text": [
      "    0\n",
      "0   4\n",
      "1   8\n",
      "2  12\n",
      "3  16\n",
      "4  20\n"
     ]
    }
   ],
   "source": [
    "import pandas as pd  \n",
    "mylist = [4, 8, 12, 16, 20]  \n",
    "df = pd.DataFrame(mylist)  \n",
    "print(df)  "
   ]
  },
  {
   "cell_type": "code",
   "execution_count": 18,
   "metadata": {},
   "outputs": [
    {
     "name": "stdout",
     "output_type": "stream",
     "text": [
      "    Item   Price\n",
      "0  Phone  2000.0\n",
      "1     TV  1500.0\n",
      "2  Radio   800.0\n"
     ]
    }
   ],
   "source": [
    "import pandas as pd  \n",
    "items = [['Phone', 2000], ['TV', 1500], ['Radio', 800]]  \n",
    "df = pd.DataFrame(items, columns=['Item', 'Price'], dtype=float)  \n",
    "print(df)  "
   ]
  },
  {
   "cell_type": "code",
   "execution_count": 20,
   "metadata": {},
   "outputs": [
    {
     "name": "stdout",
     "output_type": "stream",
     "text": [
      "  Number     Type  Capacity  \n",
      "0    SSD   Premio        1800\n",
      "1    KCN  Fielder        1500\n",
      "2    USG     Benz        2200\n",
      "3    TCH      BMW        2000\n",
      "4    KBQ    Range        3500\n",
      "5    TBD   Premio        1800\n",
      "6    KCP     Benz        2200\n",
      "7    USD  Fielder        1500\n",
      "8    UGB      BMW        2000\n",
      "9    TBG    Range        3200\n"
     ]
    }
   ],
   "source": [
    "import pandas as pd  \n",
    "data = pd.read_csv('cars.csv')  \n",
    "print(data)"
   ]
  },
  {
   "cell_type": "code",
   "execution_count": 21,
   "metadata": {},
   "outputs": [
    {
     "name": "stdout",
     "output_type": "stream",
     "text": [
      "      Type\n",
      "0   Premio\n",
      "4    Range\n",
      "7  Fielder\n"
     ]
    }
   ],
   "source": [
    "import pandas as pd  \n",
    "data = pd.read_csv('cars.csv')\n",
    "\n",
    "print (data.loc[[0, 4, 7], ['Type']]) \n",
    "\n",
    "#The loc() method is a nice utility that helps\n",
    "#us read only certain rows of a specific column \n",
    "#in the dataset"
   ]
  },
  {
   "cell_type": "code",
   "execution_count": 2,
   "metadata": {},
   "outputs": [
    {
     "name": "stdout",
     "output_type": "stream",
     "text": [
      "      Type  Capacity\n",
      "0   Premio       NaN\n",
      "1  Fielder       NaN\n",
      "2     Benz       NaN\n",
      "3      BMW       NaN\n",
      "4    Range       NaN\n",
      "5   Premio       NaN\n",
      "6     Benz       NaN\n",
      "7  Fielder       NaN\n",
      "8      BMW       NaN\n",
      "9    Range       NaN\n"
     ]
    },
    {
     "name": "stderr",
     "output_type": "stream",
     "text": [
      "C:\\ProgramData\\Anaconda3\\lib\\site-packages\\pandas\\core\\indexing.py:1494: FutureWarning: \n",
      "Passing list-likes to .loc or [] with any missing label will raise\n",
      "KeyError in the future, you can use .reindex() as an alternative.\n",
      "\n",
      "See the documentation here:\n",
      "https://pandas.pydata.org/pandas-docs/stable/indexing.html#deprecate-loc-reindex-listlike\n",
      "  return self._getitem_tuple(key)\n"
     ]
    }
   ],
   "source": [
    "import pandas as pd  \n",
    "data = pd.read_csv('cars.csv')\n",
    "\n",
    "print (data.loc[:, ['Type', 'Capacity']]) "
   ]
  },
  {
   "cell_type": "code",
   "execution_count": 3,
   "metadata": {},
   "outputs": [
    {
     "name": "stdout",
     "output_type": "stream",
     "text": [
      "  subject_id student_name\n",
      "0          1         John\n",
      "1          2        Emily\n",
      "2          3         Kate\n",
      "3          4       Joseph\n",
      "4          5       Dennis\n"
     ]
    }
   ],
   "source": [
    "# Data Margin\n",
    "import pandas as pd\n",
    "\n",
    "d = {  \n",
    "    'subject_id': ['1', '2', '3', '4', '5'],\n",
    "    'student_name': ['John', 'Emily', 'Kate', 'Joseph', 'Dennis']\n",
    "}\n",
    "df1 = pd.DataFrame(d, columns=['subject_id', 'student_name'])  \n",
    "print(df1)  "
   ]
  },
  {
   "cell_type": "code",
   "execution_count": null,
   "metadata": {},
   "outputs": [],
   "source": []
  },
  {
   "cell_type": "code",
   "execution_count": 6,
   "metadata": {},
   "outputs": [
    {
     "name": "stdout",
     "output_type": "stream",
     "text": [
      "       Name  Position  Year  Marks\n",
      "1      John         1  2010    398\n",
      "3     Grace         4  2010    376\n",
      "4  Benjamin         2  2010    401\n",
      "5  Benjamin         4  2010    380\n"
     ]
    }
   ],
   "source": [
    "# Grouping\n",
    "# import pandas library\n",
    "import pandas as pd\n",
    "\n",
    "raw = {  \n",
    "    'Name': ['John', 'John', 'Grace', 'Grace', 'Benjamin', 'Benjamin', 'Benjamin',\n",
    "        'Benjamin', 'John', 'Alex', 'Alex', 'Alex'],\n",
    "    'Position': [2, 1, 1, 4, 2, 4, 3, 1, 3, 2, 4, 3],\n",
    "    'Year': [2009, 2010, 2009, 2010, 2010, 2010, 2011, 2012, 2011, 2013, 2013, 2012],\n",
    "    'Marks':[408, 398, 422, 376, 401, 380, 396, 388, 356, 402, 368, 378]\n",
    "}\n",
    "df = pd.DataFrame(raw)\n",
    "\n",
    "group = df.groupby('Year')  \n",
    "print(group.get_group(2010))  "
   ]
  },
  {
   "cell_type": "markdown",
   "metadata": {},
   "source": [
    "## Example of matplotlib"
   ]
  },
  {
   "cell_type": "code",
   "execution_count": 8,
   "metadata": {},
   "outputs": [
    {
     "data": {
      "image/png": "[encoded data removed]",
      "text/plain": [
       "<Figure size 432x288 with 1 Axes>"
      ]
     },
     "metadata": {
      "needs_background": "light"
     },
     "output_type": "display_data"
    }
   ],
   "source": [
    "# Import the necessary packages and modules\n",
    "import matplotlib.pyplot as plt\n",
    "import numpy as np\n",
    "\n",
    "# Prepare the data\n",
    "x = np.linspace(0,5,10)\n",
    "\n",
    "# Plot the data\n",
    "plt.plot(x, x, label='linear')\n",
    "\n",
    "# Add a legend\n",
    "plt.legend()\n",
    "\n",
    "# Show the plot\n",
    "plt.show()"
   ]
  },
  {
   "cell_type": "code",
   "execution_count": 9,
   "metadata": {},
   "outputs": [
    {
     "data": {
      "image/png": "[encoded data removed]",
      "text/plain": [
       "<Figure size 432x288 with 1 Axes>"
      ]
     },
     "metadata": {
      "needs_background": "light"
     },
     "output_type": "display_data"
    }
   ],
   "source": [
    "import matplotlib.pyplot as plt\n",
    "fig = plt.figure()\n",
    "ax = fig.add_subplot(111)\n",
    "ax.plot([1, 2, 3, 4], [10, 20, 25, 30], color='lightblue', linewidth=3)\n",
    "ax.scatter([0.3, 3.8, 1.2, 2.5], [11, 25, 9, 26], color='darkgreen', marker='^')\n",
    "ax.set_xlim(0.5, 4.5)\n",
    "plt.show()"
   ]
  },
  {
   "cell_type": "code",
   "execution_count": 10,
   "metadata": {},
   "outputs": [
    {
     "data": {
      "text/plain": [
       "<matplotlib.axes._axes.Axes at 0x5020fb0>"
      ]
     },
     "execution_count": 10,
     "metadata": {},
     "output_type": "execute_result"
    },
    {
     "data": {
      "image/png": "[encoded data removed]",
      "text/plain": [
       "<Figure size 432x288 with 1 Axes>"
      ]
     },
     "metadata": {
      "needs_background": "light"
     },
     "output_type": "display_data"
    }
   ],
   "source": [
    "# Import `pyplot`\n",
    "import matplotlib.pyplot as plt\n",
    "\n",
    "# Initialize a Figure \n",
    "fig = plt.figure()\n",
    "\n",
    "# Add Axes to the Figure\n",
    "fig.add_axes([0,0,1,1])"
   ]
  },
  {
   "cell_type": "code",
   "execution_count": 11,
   "metadata": {},
   "outputs": [
    {
     "data": {
      "image/png": "[encoded data removed]",
      "text/plain": [
       "<Figure size 432x288 with 1 Axes>"
      ]
     },
     "metadata": {
      "needs_background": "light"
     },
     "output_type": "display_data"
    }
   ],
   "source": [
    "# Import the necessary packages and modules\n",
    "import matplotlib.pyplot as plt\n",
    "import numpy as np\n",
    "\n",
    "# Create a Figure\n",
    "fig = plt.figure()\n",
    "\n",
    "# Set up Axes\n",
    "ax = fig.add_subplot(111)\n",
    "\n",
    "# Scatter the data\n",
    "ax.scatter(np.linspace(0, 1, 5), np.linspace(0, 5, 5))\n",
    "\n",
    "# Show the plot\n",
    "plt.show()"
   ]
  },
  {
   "cell_type": "code",
   "execution_count": 12,
   "metadata": {},
   "outputs": [
    {
     "data": {
      "text/plain": [
       "<function matplotlib.pyplot.show(*args, **kw)>"
      ]
     },
     "execution_count": 12,
     "metadata": {},
     "output_type": "execute_result"
    },
    {
     "data": {
      "image/png": "[encoded data removed]",
      "text/plain": [
       "<Figure size 432x288 with 1 Axes>"
      ]
     },
     "metadata": {
      "needs_background": "light"
     },
     "output_type": "display_data"
    }
   ],
   "source": [
    "# Import the necessary packages and modules\n",
    "import matplotlib.pyplot as plt\n",
    "import numpy as np\n",
    "\n",
    "# Prepare the data\n",
    "x = np.linspace(0, 10, 100)\n",
    "\n",
    "# Plot the data\n",
    "plt.plot(x, x, label='linear')\n",
    "()\n",
    "# Add a legend\n",
    "plt.legend()\n",
    "\n",
    "# Show the plot\n",
    "plt.show"
   ]
  },
  {
   "cell_type": "code",
   "execution_count": 16,
   "metadata": {},
   "outputs": [
    {
     "data": {
      "image/png": "[encoded data removed]",
      "text/plain": [
       "<Figure size 432x288 with 1 Axes>"
      ]
     },
     "metadata": {
      "needs_background": "light"
     },
     "output_type": "display_data"
    }
   ],
   "source": [
    "import numpy as np \n",
    "import matplotlib.pyplot as plt \n",
    "  \n",
    "def estimate_coef(x, y): \n",
    "    n = np.size(x) \n",
    "  \n",
    "    m_x, m_y = np.mean(x), np.mean(y) \n",
    "  \n",
    "    SS_xy = np.sum(y*x) - n*m_y*m_x \n",
    "    SS_xx = np.sum(x*x) - n*m_x*m_x \n",
    "   \n",
    "    b_1 = SS_xy / SS_xx \n",
    "    b_0 = m_y - b_1*m_x \n",
    "  \n",
    "    return(b_0, b_1) \n",
    "  \n",
    "def plot_regression_line(x, y, b): \n",
    "    plt.scatter(x, y, color = \"m\", marker = \"o\", s = 30) \n",
    "    y_pred = b[0] + b[1]*x \n",
    "    plt.plot(x, y_pred, color = \"g\") \n",
    "    plt.xlabel('x') \n",
    "    plt.ylabel('y') \n",
    "  \n",
    "    plt.show() \n",
    "  \n",
    "\n",
    "x = np.array([0, 1, 2, 3, 4, 5, 6, 7, 8, 9]) \n",
    "y = np.array([1, 3, 2, 5, 7, 8, 8, 9, 10, 12]) \n",
    "b = estimate_coef(x, y) \n",
    "plot_regression_line(x, y, b)"
   ]
  },
  {
   "cell_type": "markdown",
   "metadata": {},
   "source": [
    "## OOP"
   ]
  },
  {
   "cell_type": "code",
   "execution_count": 15,
   "metadata": {},
   "outputs": [
    {
     "name": "stdout",
     "output_type": "stream",
     "text": [
      "Azharul Islam 40 3.5\n",
      "Faisal Ahmed 60 3.8\n",
      "Azhar\n",
      "234\n"
     ]
    }
   ],
   "source": [
    "class Student:\n",
    "    def __init__(self, fist_name, last_name,numCredit,cgpa):\n",
    "        self.fist_name = fist_name\n",
    "        self.last_name = last_name\n",
    "        self.numCredit = numCredit\n",
    "        self.cgpa = cgpa\n",
    "        \n",
    "    def printStudent(self):\n",
    "        print(self.fist_name,self.last_name,self.numCredit, self.cgpa)\n",
    "        \n",
    "student1= Student('Azharul','Islam',40,3.5)\n",
    "student1.printStudent()\n",
    "student2= Student('Faisal','Ahmed',60,3.80)\n",
    "student2.printStudent()\n",
    "student1.fist_name = 'Azhar'\n",
    "print(student1.fist_name)\n",
    "student2.numcredit =234\n",
    "print(student2.numcredit)\n"
   ]
  },
  {
   "cell_type": "code",
   "execution_count": null,
   "metadata": {},
   "outputs": [],
   "source": []
  }
 ],
 "metadata": {
  "kernelspec": {
   "display_name": "Python 3",
   "language": "python",
   "name": "python3"
  },
  "language_info": {
   "codemirror_mode": {
    "name": "ipython",
    "version": 3
   },
   "file_extension": ".py",
   "mimetype": "text/x-python",
   "name": "python",
   "nbconvert_exporter": "python",
   "pygments_lexer": "ipython3",
   "version": "3.7.3"
  }
 },
 "nbformat": 4,
 "nbformat_minor": 2
}
